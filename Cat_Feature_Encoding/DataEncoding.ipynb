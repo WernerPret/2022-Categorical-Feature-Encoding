{
 "cells": [
  {
   "cell_type": "markdown",
   "id": "93717917",
   "metadata": {},
   "source": [
    "# Encoding Categorical Clothing Review Data"
   ]
  },
  {
   "cell_type": "code",
   "execution_count": 79,
   "id": "8be10c74",
   "metadata": {},
   "outputs": [],
   "source": [
    "import pandas as pd\n",
    "import numpy as np\n",
    "from sklearn.preprocessing import StandardScaler\n",
    "from sklearn.model_selection import train_test_split\n",
    "from sklearn.metrics import accuracy_score\n",
    "from sklearn.metrics import f1_score\n",
    "from sklearn.metrics import recall_score\n",
    "from sklearn.metrics import precision_score\n",
    "from sklearn.metrics import classification_report"
   ]
  },
  {
   "cell_type": "code",
   "execution_count": 64,
   "id": "4d9376cf",
   "metadata": {},
   "outputs": [],
   "source": [
    "#import data\n",
    "reviews = pd.read_csv(\"reviews.csv\")"
   ]
  },
  {
   "cell_type": "code",
   "execution_count": 65,
   "id": "1d06ea4f",
   "metadata": {},
   "outputs": [],
   "source": [
    "# Clean up nulls\n",
    "reviews.dropna(inplace=True) "
   ]
  },
  {
   "cell_type": "code",
   "execution_count": 66,
   "id": "5bfbef23",
   "metadata": {},
   "outputs": [
    {
     "name": "stdout",
     "output_type": "stream",
     "text": [
      "Index(['clothing_id', 'age', 'review_title', 'review_text', 'recommended',\n",
      "       'division_name', 'department_name', 'review_date', 'rating'],\n",
      "      dtype='object')\n",
      "<class 'pandas.core.frame.DataFrame'>\n",
      "Int64Index: 4169 entries, 0 to 4999\n",
      "Data columns (total 9 columns):\n",
      " #   Column           Non-Null Count  Dtype \n",
      "---  ------           --------------  ----- \n",
      " 0   clothing_id      4169 non-null   int64 \n",
      " 1   age              4169 non-null   int64 \n",
      " 2   review_title     4169 non-null   object\n",
      " 3   review_text      4169 non-null   object\n",
      " 4   recommended      4169 non-null   bool  \n",
      " 5   division_name    4169 non-null   object\n",
      " 6   department_name  4169 non-null   object\n",
      " 7   review_date      4169 non-null   object\n",
      " 8   rating           4169 non-null   object\n",
      "dtypes: bool(1), int64(2), object(6)\n",
      "memory usage: 297.2+ KB\n"
     ]
    }
   ],
   "source": [
    "# print column names\n",
    "print(reviews.columns)\n",
    "\n",
    "# print .info\n",
    "reviews.info()"
   ]
  },
  {
   "cell_type": "markdown",
   "id": "5f3ccbfe",
   "metadata": {},
   "source": [
    "## Binary Encoding: Labels"
   ]
  },
  {
   "cell_type": "code",
   "execution_count": 67,
   "id": "5bb3bc20",
   "metadata": {},
   "outputs": [
    {
     "name": "stdout",
     "output_type": "stream",
     "text": [
      "True     3459\n",
      "False     710\n",
      "Name: recommended, dtype: int64\n"
     ]
    }
   ],
   "source": [
    "# look at the counts of recommended\n",
    "print(reviews[\"recommended\"].value_counts())"
   ]
  },
  {
   "cell_type": "code",
   "execution_count": 68,
   "id": "810d531c",
   "metadata": {},
   "outputs": [
    {
     "name": "stdout",
     "output_type": "stream",
     "text": [
      "1    3459\n",
      "0     710\n",
      "Name: recommended, dtype: int64\n"
     ]
    }
   ],
   "source": [
    "#create binary dictionary + transform column\n",
    "\n",
    "binary_dict = {True: 1, False: 0}\n",
    "reviews[\"recommended\"] = reviews[\"recommended\"].map(binary_dict)\n",
    "\n",
    "print(reviews[\"recommended\"].value_counts())"
   ]
  },
  {
   "cell_type": "markdown",
   "id": "2c0722ad",
   "metadata": {},
   "source": [
    "## Ordinal Encoding: Ratings"
   ]
  },
  {
   "cell_type": "code",
   "execution_count": 69,
   "id": "2221e70e",
   "metadata": {},
   "outputs": [
    {
     "name": "stdout",
     "output_type": "stream",
     "text": [
      "Loved it     2296\n",
      "Liked it      973\n",
      "Was okay      484\n",
      "Not great     261\n",
      "Hated it      155\n",
      "Name: rating, dtype: int64\n"
     ]
    }
   ],
   "source": [
    "#look at the counts of rating\n",
    "print(reviews[\"rating\"].value_counts())\n",
    " "
   ]
  },
  {
   "cell_type": "code",
   "execution_count": 70,
   "id": "b2ae3ec9",
   "metadata": {},
   "outputs": [
    {
     "name": "stdout",
     "output_type": "stream",
     "text": [
      "5.0    2296\n",
      "4.0     973\n",
      "3.0     484\n",
      "1.0     155\n",
      "Name: rating, dtype: int64\n"
     ]
    }
   ],
   "source": [
    "# Create dictionary and transform column\n",
    "ratings_dict = {\"Hated it\": 1, \"Not Great\": 2, \"Was okay\": 3, \"Liked it\": 4, \"Loved it\": 5}\n",
    "reviews[\"rating\"] = reviews[\"rating\"].map(ratings_dict)\n",
    "\n",
    "# print and check\n",
    "print(reviews[\"rating\"].value_counts())"
   ]
  },
  {
   "cell_type": "markdown",
   "id": "e2b01e82",
   "metadata": {},
   "source": [
    "## One Hot Encoding: Departments"
   ]
  },
  {
   "cell_type": "code",
   "execution_count": 71,
   "id": "cc0598ee",
   "metadata": {},
   "outputs": [
    {
     "name": "stdout",
     "output_type": "stream",
     "text": [
      "Tops        1825\n",
      "Dresses     1112\n",
      "Bottoms      711\n",
      "Intimate     307\n",
      "Jackets      189\n",
      "Trend         25\n",
      "Name: department_name, dtype: int64\n"
     ]
    }
   ],
   "source": [
    "#get the number of categories in department feature\n",
    "\n",
    "print(reviews[\"department_name\"].value_counts())"
   ]
  },
  {
   "cell_type": "code",
   "execution_count": 72,
   "id": "d5ffacc0",
   "metadata": {},
   "outputs": [
    {
     "name": "stdout",
     "output_type": "stream",
     "text": [
      "   Bottoms  Dresses  Intimate  Jackets  Tops  Trend\n",
      "0        0        1         0        0     0      0\n",
      "1        0        1         0        0     0      0\n",
      "2        0        0         1        0     0      0\n",
      "3        0        1         0        0     0      0\n",
      "4        0        1         0        0     0      0\n"
     ]
    }
   ],
   "source": [
    "# encode column with ohc => add to dataset\n",
    "dept_encoded = pd.get_dummies(reviews[\"department_name\"])\n",
    "reviews = reviews.join(dept_encoded)\n",
    "\n",
    "# check results\n",
    "print(dept_encoded.head())"
   ]
  },
  {
   "cell_type": "markdown",
   "id": "f7c6e81c",
   "metadata": {},
   "source": [
    "## Date-Time Encoding: Review Date"
   ]
  },
  {
   "cell_type": "code",
   "execution_count": 73,
   "id": "ad0e031a",
   "metadata": {},
   "outputs": [
    {
     "name": "stdout",
     "output_type": "stream",
     "text": [
      "object\n"
     ]
    }
   ],
   "source": [
    "#print review_date data type \n",
    "print((reviews[\"review_date\"].dtypes))"
   ]
  },
  {
   "cell_type": "code",
   "execution_count": 74,
   "id": "f338e7f7",
   "metadata": {},
   "outputs": [],
   "source": [
    "#transform review_date to date-time data\n",
    "reviews[\"review_date\"] = pd.to_datetime(reviews[\"review_date\"])"
   ]
  },
  {
   "cell_type": "markdown",
   "id": "1451a169",
   "metadata": {},
   "source": [
    "## Select Features(x) and Lables(y)"
   ]
  },
  {
   "cell_type": "code",
   "execution_count": 75,
   "id": "e2e3dc73",
   "metadata": {},
   "outputs": [],
   "source": [
    "x = reviews[[col for col in reviews.columns if reviews[col].dtype == \"int\" or reviews[col].dtype == \"uint8\" or reviews[col].dtype == \"int64\" or reviews[col].dtype == \"float\"]]\n",
    "x = x.set_index(x[\"clothing_id\"])\n",
    "y = reviews[\"recommended\"] "
   ]
  },
  {
   "cell_type": "markdown",
   "id": "67fb62cc",
   "metadata": {},
   "source": [
    "## Scale Data"
   ]
  },
  {
   "cell_type": "code",
   "execution_count": null,
   "id": "5b15656c",
   "metadata": {},
   "outputs": [],
   "source": [
    "x = StandardScaler().fit_transform(x)"
   ]
  },
  {
   "cell_type": "markdown",
   "id": "a21b4a75",
   "metadata": {},
   "source": [
    "## Split the Data => Train  & Test sets"
   ]
  },
  {
   "cell_type": "code",
   "execution_count": 80,
   "id": "511c68f3",
   "metadata": {},
   "outputs": [],
   "source": [
    "x_train, x_test, y_train, y_test = train_test_split(x, y, train_size=0.99, test_size=0.01) "
   ]
  },
  {
   "cell_type": "markdown",
   "id": "d95895de",
   "metadata": {},
   "source": [
    "# END => Data is ready to go"
   ]
  }
 ],
 "metadata": {
  "kernelspec": {
   "display_name": "Python 3",
   "language": "python",
   "name": "python3"
  },
  "language_info": {
   "codemirror_mode": {
    "name": "ipython",
    "version": 3
   },
   "file_extension": ".py",
   "mimetype": "text/x-python",
   "name": "python",
   "nbconvert_exporter": "python",
   "pygments_lexer": "ipython3",
   "version": "3.8.8"
  }
 },
 "nbformat": 4,
 "nbformat_minor": 5
}
